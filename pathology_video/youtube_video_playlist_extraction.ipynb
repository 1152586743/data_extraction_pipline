{
 "cells": [
  {
   "cell_type": "code",
   "execution_count": 11,
   "id": "aeabfb3f",
   "metadata": {},
   "outputs": [],
   "source": [
    "import sys, subprocess, json, csv, datetime, re\n",
    "from pathlib import Path\n",
    "\n",
    "# ===== 参数 =====\n",
    "QUERY = \"dermatology\"                # 换成你的关键词\n",
    "CHUNK = 100                          # 每批抓多少条（50~100比较稳）\n",
    "LOOPS_PER_MODE = 40                  # 每种排序尝试多少轮（越大越慢；YouTube有自然上限）\n",
    "BASE = Path(\"/Users/yhu10/Desktop/VLM/pathology_video\")\n",
    "OUT_DIR = BASE / \"playlist\"\n",
    "OUT_DIR.mkdir(parents=True, exist_ok=True)\n",
    "# =================\n",
    "\n",
    "def ensure_yt_dlp():\n",
    "    try:\n",
    "        import yt_dlp  # noqa\n",
    "    except Exception:\n",
    "        print(\"[setup] Installing yt-dlp...\")\n",
    "        subprocess.run([sys.executable, \"-m\", \"pip\", \"install\", \"--user\", \"yt-dlp\"], check=True)\n",
    "        import yt_dlp  # noqa\n",
    "\n",
    "def run_ytdlp_lines(source: str, extractor_args: str = \"youtube:search_client=youtubei\"):\n",
    "    \"\"\"\n",
    "    关键点：不加 --flat-playlist；直接 -j，逐行解析。\n",
    "    不去假设最后一行是 entries，而是对每一行做 json.loads，抓到就存。\n",
    "    \"\"\"\n",
    "    cmd = [sys.executable, \"-m\", \"yt_dlp\", \"-j\", \"--extractor-args\", extractor_args, source]\n",
    "    res = subprocess.run(cmd, stdout=subprocess.PIPE, stderr=subprocess.STDOUT, text=True)\n",
    "    if res.returncode != 0:\n",
    "        print(res.stdout)\n",
    "        raise RuntimeError(\"yt-dlp failed\")\n",
    "    items = []\n",
    "    for line in res.stdout.strip().splitlines():\n",
    "        try:\n",
    "            j = json.loads(line)\n",
    "            items.append(j)\n",
    "        except json.JSONDecodeError:\n",
    "            pass\n",
    "    return items\n",
    "\n",
    "def collect_ids_titles(items):\n",
    "    rows = []\n",
    "    for j in items:\n",
    "        # 兼容 video / playlist entries 的不同字段\n",
    "        vid = j.get(\"id\") or j.get(\"url\")\n",
    "        title = j.get(\"title\") or \"\"\n",
    "        if not vid or len(vid) < 6:  # 跳过无效\n",
    "            continue\n",
    "        rows.append({\n",
    "            \"video_id\": vid,\n",
    "            \"title\": title,\n",
    "            \"url\": f\"https://www.youtube.com/watch?v={vid}\"\n",
    "        })\n",
    "    return rows\n",
    "\n",
    "def search_many(query: str, chunk: int, loops_per_mode: int):\n",
    "    \"\"\"\n",
    "    用两种模式：按日期 & 按相关性；并尝试多轮。\n",
    "    注意：ytsearchN:* 并不真正分页，所以多轮会高度重叠；我们做去重。\n",
    "    同时尝试两套 search_client，提高命中率。\n",
    "    \"\"\"\n",
    "    modes = [f\"ytsearchdate{chunk}:{query}\", f\"ytsearch{chunk}:{query}\"]\n",
    "    clients = [\"youtube:search_client=youtubei\", \"youtube:search_client=youtube\"]\n",
    "    seen = set()\n",
    "    results = []\n",
    "    for source in modes:\n",
    "        for client in clients:\n",
    "            no_new_rounds = 0\n",
    "            for _ in range(loops_per_mode):\n",
    "                items = run_ytdlp_lines(source, extractor_args=client)\n",
    "                rows = collect_ids_titles(items)\n",
    "                added = 0\n",
    "                for r in rows:\n",
    "                    if r[\"video_id\"] in seen:\n",
    "                        continue\n",
    "                    seen.add(r[\"video_id\"])\n",
    "                    results.append(r)\n",
    "                    added += 1\n",
    "                if added == 0:\n",
    "                    no_new_rounds += 1\n",
    "                # 连续两轮都没有新增，就换下一个模式/客户端\n",
    "                if no_new_rounds >= 2:\n",
    "                    break\n",
    "    return results\n",
    "ensure_yt_dlp()"
   ]
  },
  {
   "cell_type": "code",
   "execution_count": 12,
   "id": "b0e298c4",
   "metadata": {},
   "outputs": [
    {
     "name": "stdout",
     "output_type": "stream",
     "text": [
      "[search] query='dermatology', chunk=100, loops/mode=40\n",
      "[search] collected (dedup): 323\n"
     ]
    }
   ],
   "source": [
    "print(f\"[search] query={QUERY!r}, chunk={CHUNK}, loops/mode={LOOPS_PER_MODE}\")\n",
    "rows = search_many(QUERY, CHUNK, LOOPS_PER_MODE)\n",
    "print(f\"[search] collected (dedup): {len(rows)}\")"
   ]
  },
  {
   "cell_type": "code",
   "execution_count": 14,
   "id": "3f6e871c",
   "metadata": {},
   "outputs": [
    {
     "name": "stdout",
     "output_type": "stream",
     "text": [
      "[done] wrote: /Users/yhu10/Desktop/VLM/pathology_video/playlist/dermatology_all_20251017.csv (323 rows)\n"
     ]
    },
    {
     "data": {
      "text/plain": [
       "PosixPath('/Users/yhu10/Desktop/VLM/pathology_video/playlist/dermatology_all_20251017.csv')"
      ]
     },
     "execution_count": 14,
     "metadata": {},
     "output_type": "execute_result"
    }
   ],
   "source": [
    "stamp = datetime.datetime.now().strftime(\"%Y%m%d\")\n",
    "safe_q = re.sub(r\"[^A-Za-z0-9_]+\", \"_\", QUERY.strip()) or \"query\"\n",
    "out_csv = OUT_DIR / f\"{safe_q}_all_{stamp}.csv\"\n",
    "with open(out_csv, \"w\", newline=\"\", encoding=\"utf-8\") as f:\n",
    "    w = csv.DictWriter(f, fieldnames=[\"video_id\", \"title\", \"url\"])\n",
    "    w.writeheader()\n",
    "    for r in rows:\n",
    "        w.writerow(r)\n",
    "\n",
    "print(f\"[done] wrote: {out_csv} ({len(rows)} rows)\")\n",
    "out_csv"
   ]
  },
  {
   "cell_type": "code",
   "execution_count": null,
   "id": "975b7fd5",
   "metadata": {},
   "outputs": [],
   "source": []
  }
 ],
 "metadata": {
  "kernelspec": {
   "display_name": "Python 3",
   "language": "python",
   "name": "python3"
  },
  "language_info": {
   "codemirror_mode": {
    "name": "ipython",
    "version": 3
   },
   "file_extension": ".py",
   "mimetype": "text/x-python",
   "name": "python",
   "nbconvert_exporter": "python",
   "pygments_lexer": "ipython3",
   "version": "3.9.6"
  }
 },
 "nbformat": 4,
 "nbformat_minor": 5
}
