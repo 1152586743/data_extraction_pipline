{
 "cells": [
  {
   "cell_type": "markdown",
   "metadata": {},
   "source": [
    "# Download the pathology image and annotations\n",
    "\n",
    "#### Dataset is from this Huggingface repo: [Codatta/Refined-TCGA-PRAD-Prostate-Cancer-Pathology-Dataset](https://huggingface.co/datasets/Codatta/Refined-TCGA-PRAD-Prostate-Cancer-Pathology-Dataset)\n",
    "\n",
    "## Download the reference table"
   ]
  },
  {
   "cell_type": "code",
   "execution_count": 4,
   "metadata": {},
   "outputs": [
    {
     "ename": "AttributeError",
     "evalue": "'DatasetDict' object has no attribute 'diagnosis'",
     "output_type": "error",
     "traceback": [
      "\u001b[0;31m---------------------------------------------------------------------------\u001b[0m",
      "\u001b[0;31mAttributeError\u001b[0m                            Traceback (most recent call last)",
      "Cell \u001b[0;32mIn[4], line 5\u001b[0m\n\u001b[1;32m      2\u001b[0m \u001b[38;5;28;01mimport\u001b[39;00m\u001b[38;5;250m \u001b[39m\u001b[38;5;21;01mpandas\u001b[39;00m\u001b[38;5;250m \u001b[39m\u001b[38;5;28;01mas\u001b[39;00m\u001b[38;5;250m \u001b[39m\u001b[38;5;21;01mpd\u001b[39;00m\n\u001b[1;32m      4\u001b[0m df \u001b[38;5;241m=\u001b[39m load_dataset(\u001b[38;5;124m\"\u001b[39m\u001b[38;5;124mCodatta/Refined-TCGA-PRAD-Prostate-Cancer-Pathology-Dataset\u001b[39m\u001b[38;5;124m\"\u001b[39m)\n\u001b[0;32m----> 5\u001b[0m \u001b[38;5;28mprint\u001b[39m(\u001b[43mdf\u001b[49m\u001b[38;5;241;43m.\u001b[39;49m\u001b[43mdiagnosis\u001b[49m[\u001b[38;5;241m0\u001b[39m])\n\u001b[1;32m      6\u001b[0m \u001b[38;5;28mprint\u001b[39m(df\u001b[38;5;241m.\u001b[39mslide_id[\u001b[38;5;241m0\u001b[39m])\n\u001b[1;32m      7\u001b[0m \u001b[38;5;28mprint\u001b[39m(df\u001b[38;5;241m.\u001b[39mslide_name[\u001b[38;5;241m0\u001b[39m])\n",
      "\u001b[0;31mAttributeError\u001b[0m: 'DatasetDict' object has no attribute 'diagnosis'"
     ]
    }
   ],
   "source": [
    "from datasets import load_dataset\n",
    "import pandas as pd\n",
    "\n",
    "df = load_dataset(\"Codatta/Refined-TCGA-PRAD-Prostate-Cancer-Pathology-Dataset\")\n",
    "print(df.diagnosis[0])\n",
    "print(df.slide_id[0])\n",
    "print(df.slide_name[0])\n",
    "print(df.label[0])\n",
    "print(len(df.diagnosis))"
   ]
  },
  {
   "cell_type": "code",
   "execution_count": null,
   "metadata": {},
   "outputs": [
    {
     "name": "stderr",
     "output_type": "stream",
     "text": [
      "/data/jjiang10/conda_envs/clam_latest/lib/python3.10/site-packages/tqdm/auto.py:21: TqdmWarning: IProgress not found. Please update jupyter and ipywidgets. See https://ipywidgets.readthedocs.io/en/stable/user_install.html\n",
      "  from .autonotebook import tqdm as notebook_tqdm\n"
     ]
    },
    {
     "name": "stdout",
     "output_type": "stream",
     "text": [
      "This slide contains predominately Gleason Grade 5 tumor, characterized by the absence of glandular differentiation, alongside Gleason Grade 4 tumor, characterized by glandular fusion or colloid structure or cribriform structure.\n",
      "eb00cbed-63c4-4d47-9b6a-9dde1306b8cd\n",
      "TCGA-KK-A7B2-01Z-00-DX1.3E779031-6FE4-4BD0-838C-D9ED49E1B9A7.svs\n",
      "Gleason Score 5+4\n",
      "138\n"
     ]
    }
   ],
   "source": [
    "from huggingface_hub import hf_hub_download\n",
    "import pandas as pd\n",
    "\n",
    "df = pd.read_csv(\"hf://datasets/Codatta/Refined-TCGA-PRAD-Prostate-Cancer-Pathology-Dataset/dataset/PRAD/PRAD.csv\")\n",
    "print(df.diagnosis[0])\n",
    "print(df.slide_id[0])\n",
    "print(df.slide_name[0])\n",
    "print(df.label[0])\n",
    "print(len(df.diagnosis))"
   ]
  },
  {
   "cell_type": "markdown",
   "metadata": {},
   "source": [
    "#### This PRAD.csv table saves the slide ids, annotation labels and diagnosis text. There are 138 cases/images.\n",
    "\n",
    "## Download client tool"
   ]
  },
  {
   "cell_type": "markdown",
   "metadata": {},
   "source": [
    "Download gdc-client tool, so that we can download the whole slide images from TCGA.\n",
    "``` bash\n",
    "wget https://gdc.cancer.gov/system/files/public/file/gdc-client_2.3_Ubuntu_x64-py3.8-ubuntu-20.04.zip\n",
    "unzip gdc-client_2.3_Ubuntu_x64-py3.8-ubuntu-20.04.zip\n",
    "chmod 755 gdc-client\n",
    "echo \"export PATH=/data/jjiang10/Tools:$PATH\" >> ~/.bashrc\n",
    "source ~/.bashrc\n",
    "```\n",
    "\n",
    "Use gdc-client to download the slide image.\n",
    "For example:\n",
    "``` bash\n",
    "./gdc-client download eb00cbed-63c4-4d47-9b6a-9dde1306b8cd\n",
    "```\n",
    "\"eb00cbed-63c4-4d47-9b6a-9dde1306b8cd\" is the slide ID in df.slide_id\n",
    "\n",
    "Here is the instruction from [GDC documentation](https://docs.gdc.cancer.gov/Data_Transfer_Tool/Users_Guide/Data_Download_and_Upload/).\n",
    "Downloading Data Using GDC File UUIDs\n",
    "The GDC Data Transfer Tool also supports downloading of one or more individual files using UUID(s) instead of a manifest file. To do this, enter the UUID(s) after the download command:\n",
    "``` bash\n",
    "gdc-client download 22a29915-6712-4f7a-8dba-985ae9a1f005\n",
    "```\n",
    "Multiple UUIDs can be specified, separated by a space:\n",
    "``` bash\n",
    "gdc-client download e5976406-473a-4fbd-8c97-e95187cdc1bd fb3e261b-92ac-4027-b4d9-eb971a92a4c3\n",
    "```\n"
   ]
  },
  {
   "cell_type": "markdown",
   "metadata": {},
   "source": [
    "## Download a snapshot of the dataset\n",
    "The snapshot contains the all the files within this dataset, especially ROI annotations, which is our major interest.  "
   ]
  },
  {
   "cell_type": "code",
   "execution_count": null,
   "metadata": {},
   "outputs": [],
   "source": [
    "# download a snapshot (the latest version of data) to local drive.\n",
    "from huggingface_hub import snapshot_download\n",
    "local_dir = \"/data/jjiang10/Data/ProstatePathology\"\n",
    "ddir = snapshot_download(repo_id=\"Codatta/Refined-TCGA-PRAD-Prostate-Cancer-Pathology-Dataset\", local_dir=local_dir, repo_type=\"dataset\")\n",
    "ddir"
   ]
  },
  {
   "cell_type": "code",
   "execution_count": null,
   "metadata": {},
   "outputs": [],
   "source": [
    "# check the geojson file, which are the regional annotations\n",
    "import os, glob\n",
    "geojson_files = glob.glob(os.path.join(local_dir, \"dataset/PRAD/*.geojson\"))\n",
    "len(geojson_files)"
   ]
  },
  {
   "cell_type": "markdown",
   "metadata": {},
   "source": [
    "## Download whole slide images\n",
    "Whole slide images (WSIs) need to be downloaded with the gdc-client tool from TCGA.\n",
    "The following code generates the command line to download all the original WSIs."
   ]
  },
  {
   "cell_type": "code",
   "execution_count": null,
   "metadata": {},
   "outputs": [],
   "source": [
    "# Create WSI download command\n",
    "cmd_str = \"gdc-client download \" + \" \".join(list(df.slide_id))\n",
    "print(cmd_str)\n",
    "\n"
   ]
  },
  {
   "cell_type": "markdown",
   "metadata": {},
   "source": [
    "Create folder to save original whole slide image data\n",
    "``` bash\n",
    "cd /data/jjiang10/Data/ProstatePathology\n",
    "mkdir WSIs\n",
    "cd WSIs\n",
    "\n",
    "```"
   ]
  },
  {
   "cell_type": "code",
   "execution_count": null,
   "metadata": {},
   "outputs": [],
   "source": [
    "import subprocess\n",
    "\n",
    "with open(\"download_script.sh\", \"w\") as f:\n",
    "    f.write(\"#!/bin/bash\\n\")\n",
    "    f.write(\"cd /data/jjiang10/Data/ProstatePathology/WSIs \\n\")\n",
    "    f.write(cmd_str + \"\\n\")\n",
    "    f.write(\"ls -l\\n\")\n",
    "\n",
    "subprocess.run([\"chmod\", \"+x\", \"download_script.sh\"])"
   ]
  },
  {
   "cell_type": "markdown",
   "metadata": {},
   "source": [
    "Run the created bash script to download the images."
   ]
  },
  {
   "cell_type": "code",
   "execution_count": null,
   "metadata": {},
   "outputs": [],
   "source": [
    "# List all the WSI files.\n",
    "import glob\n",
    "import os \n",
    "local_dir = \"/data/jjiang10/Data/ProstatePathology\"\n",
    "wsi_list = glob.glob(os.path.join(local_dir, \"WSIs\", \"*\", \"*.svs\"))\n",
    "print(os.path.join(local_dir, \"WSIs\", \"*\", \"*.svs\"))\n",
    "print(len(wsi_list))\n",
    "wsi_list"
   ]
  }
 ],
 "metadata": {
  "kernelspec": {
   "display_name": "Python 3",
   "language": "python",
   "name": "python3"
  },
  "language_info": {
   "codemirror_mode": {
    "name": "ipython",
    "version": 3
   },
   "file_extension": ".py",
   "mimetype": "text/x-python",
   "name": "python",
   "nbconvert_exporter": "python",
   "pygments_lexer": "ipython3",
   "version": "3.9.6"
  }
 },
 "nbformat": 4,
 "nbformat_minor": 2
}
